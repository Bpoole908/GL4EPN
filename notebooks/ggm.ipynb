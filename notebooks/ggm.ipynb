{
 "cells": [
  {
   "cell_type": "code",
   "execution_count": 1,
   "id": "85bc15a4-4b2a-4304-acc6-72a4b501cb48",
   "metadata": {},
   "outputs": [],
   "source": [
    "from typing import (\n",
    "    List,\n",
    "    Dict\n",
    ")\n",
    "from itertools import product\n",
    "from functools import partial\n",
    "from pdb import set_trace\n",
    "\n",
    "import numpy as np\n",
    "import pandas as pd\n",
    "import matplotlib.pyplot as plt\n",
    "from tqdm.auto import tqdm\n",
    "from sklearn.metrics.pairwise import pairwise_kernels\n",
    "\n",
    "import gc4eptn\n",
    "from gc4eptn import dataloaders\n",
    "from gc4eptn.utils import norms\n",
    "from gc4eptn.ggm import single_ggm_exp\n",
    "from gc4eptn.utils.utils import (\n",
    "    get_dataloader,\n",
    "    to_adjacency,\n",
    "    build_experiment_path,\n",
    "    filter_function_kwargs,\n",
    "    lambda_grid_R_max_min,\n",
    "    lambda_grid_R_max_square,\n",
    "    exp_log_grid,\n",
    ")\n",
    "from gc4eptn.utils.plotting import plot_eptn_ground_truths, R_mag_ang_plots\n",
    "from gc4eptn.utils.kernels import (\n",
    "    weighted_kernel,\n",
    "    corr,\n",
    "    cov,\n",
    "    gram,\n",
    "    rational_quadratic,\n",
    ")\n",
    "from gc4eptn.utils.metrics import (\n",
    "    graph_fscore,\n",
    "    graph_fbscore,\n",
    "    graph_precision,\n",
    "    graph_recall,\n",
    "    hamming_distance,\n",
    "    ebic,\n",
    ")\n",
    "np.set_printoptions(suppress=True)\n",
    "%load_ext autoreload\n",
    "%autoreload 2"
   ]
  },
  {
   "cell_type": "code",
   "execution_count": 2,
   "id": "03bc3504-0e3f-4e07-9772-0e99da3c7380",
   "metadata": {},
   "outputs": [],
   "source": [
    "rqk = partial(rational_quadratic, length_scale=50, alpha=1.0)\n",
    "rbf = partial(pairwise_kernels, metric='rbf')\n",
    "\n",
    "wcorr = partial(weighted_kernel, kernel=corr)\n",
    "wcov = partial(weighted_kernel, kernel=cov)\n",
    "wgram = partial(weighted_kernel, kernel=partial(gram, transpose=True))\n",
    "wrq = partial(weighted_kernel, kernel=rqk)\n",
    "wrbf = partial(weighted_kernel, kernel=rbf)"
   ]
  },
  {
   "cell_type": "code",
   "execution_count": 3,
   "id": "aee80745-c12d-44eb-ad9a-71b01344b8d3",
   "metadata": {},
   "outputs": [],
   "source": [
    "fstandardize = partial(\n",
    "    norms.feature_norm,\n",
    "    norm_fn=norms.standardize,\n",
    "    features=['V_mag', 'V_ang', 'I_ang', 'I_mag']\n",
    ")"
   ]
  },
  {
   "cell_type": "code",
   "execution_count": 4,
   "id": "cb7d94a4-97cf-4c84-b68a-271f75404cff",
   "metadata": {},
   "outputs": [],
   "source": [
    "metrics = {\n",
    "    'hd': dict(\n",
    "        fn=hamming_distance,\n",
    "        type='lowest'\n",
    "    ),\n",
    "    'ebic': dict(\n",
    "        fn=partial(ebic, gamma=0.5), \n",
    "        type='lowest'\n",
    "    ),\n",
    "    'f-score': dict(\n",
    "        fn=graph_fscore,\n",
    "        type='highest'\n",
    "    ),\n",
    "    'fb-score': dict(\n",
    "        fn=partial(graph_fbscore, beta=2),\n",
    "        type='highest'\n",
    "    ),\n",
    "    'precision': dict(\n",
    "        fn=graph_precision,\n",
    "        type='highest'\n",
    "    ),\n",
    "    'recall': dict(\n",
    "        fn=graph_recall,\n",
    "        type='highest'\n",
    "    ),\n",
    "}\n",
    "\n",
    "lambda_grid=exp_log_grid(start=0.001, end=200, n=100, round_dec=4)\n",
    "ggmncv_kwargs = {\n",
    "    'penalize_diagonal': False,\n",
    "    'LLA': False,\n",
    "    'select': 'lambda',\n",
    "    'lambda': lambda_grid, \n",
    "    'ic': 'ebic'\n",
    "}"
   ]
  },
  {
   "cell_type": "markdown",
   "id": "d592d0ed-4139-41b1-8052-2228fe42fa01",
   "metadata": {},
   "source": [
    "# Multi-Experiment Runner"
   ]
  },
  {
   "cell_type": "code",
   "execution_count": 5,
   "id": "0f405cd9-e1c8-4b1e-a051-90ab71d74edb",
   "metadata": {},
   "outputs": [],
   "source": [
    "def multi_ggm_exps(\n",
    "    dataset_type: str = 'rtds',\n",
    "    dataset_versions: List[str] = ['v5'],\n",
    "    difficulties: List[str] = ['novice'],\n",
    "    topologies = ['complete', 'partial-left', 'partial-right'],\n",
    "    load_types: List[str] = ['high', 'medium', 'low'],\n",
    "    n_samples: int = [None],\n",
    "    metrics: Dict = metrics,\n",
    "    best_metric_names: List[str] = ['fb-score'], \n",
    "    net_pmu_kwargs: List[Dict] = [None],\n",
    "    norm_types: List[str] = ['fstandardize'],\n",
    "    seed: int = 0,\n",
    "    verbose: bool = False,\n",
    "    *,\n",
    "    R_types: List[str] = ['wrq', 'rq', 'wcorr'],\n",
    "    penalties: List = ['lasso', 'scad', 'mcp', 'atan', 'selo', 'exp'],\n",
    "):\n",
    "    \"\"\" Automates running of multiple GGM experiements. \n",
    "\n",
    "        Args:\n",
    "            norm_types: List containing the names of normalization functions to run.\n",
    "                Use the string 'raw' to apply NO normalization.\n",
    "    \"\"\"\n",
    "    pmu = list(product(dataset_versions, difficulties, topologies, load_types, net_pmu_kwargs))\n",
    "    build = list(product(norm_types, n_samples, R_types))\n",
    "    exps = list(product(best_metric_names, penalties))\n",
    "    ########################################################################\n",
    "    for dataset_version, difficulty, topology, load, net_kwargs in tqdm(pmu):\n",
    "        pmuds_class = get_dataloader(dataset_type, dataset_version, difficulty)\n",
    "\n",
    "        net_kwargs = net_kwargs if net_kwargs is not None else {}\n",
    "        net_kwargs['load'] = load\n",
    "        net_kwargs['topology'] = topology\n",
    "        \n",
    "        net_pmuds = pmuds_class(**net_kwargs).load_data()\n",
    "\n",
    "        data_type_path = build_experiment_path(\n",
    "            subdirs=[\n",
    "                dataset_type,\n",
    "                dataset_version,\n",
    "                'ggm',\n",
    "                'multi-exp',\n",
    "                difficulty,\n",
    "                topology,\n",
    "                'simple' if net_pmuds.drop_parallel_currents else 'multi-edge',\n",
    "                '-'.join(load) if isinstance(load, list) else load,\n",
    "            ]\n",
    "        ) \n",
    "       #########################################\n",
    "        for norm_type, n, R_type in tqdm(build):\n",
    "            norm_fn = globals()[norm_type] if  norm_type is not None else None\n",
    "            X = net_pmuds.build_graph_data(\n",
    "                n=n, \n",
    "                norm_fn=norm_fn,\n",
    "                random=True,\n",
    "                rng=np.random.default_rng(seed=seed),\n",
    "            ).graph_df\n",
    "            n = n if n is not None else len(net_pmuds.df)\n",
    "            R = globals()[R_type](X)\n",
    "            \n",
    "            save_dir_path = build_experiment_path(\n",
    "                subdirs=[\n",
    "                    norm_type, \n",
    "                    n,\n",
    "                    R_type,\n",
    "                ],\n",
    "                path=data_type_path,\n",
    "            )\n",
    "            print(f\"Save dir path: {save_dir_path}\")\n",
    "            ########################################\n",
    "            for select_best_metric_name, penalty in exps:\n",
    "                select_best_metric = metrics[select_best_metric_name]\n",
    "                save_path_score = save_dir_path/select_best_metric_name\n",
    "\n",
    "                single_ggm_exp(\n",
    "                    R=R,\n",
    "                    n_samples=n,\n",
    "                    penalty=penalty,\n",
    "                    A=net_pmuds.true_network_graph,\n",
    "                    positions=net_pmuds.graph_positions,\n",
    "                    metric_fn=select_best_metric['fn'],\n",
    "                    select_metric=select_best_metric['type'],\n",
    "                    tau=None,\n",
    "                    labels=net_pmuds.labels,\n",
    "                    annot=True,\n",
    "                    save_dir_path=save_path_score,\n",
    "                    file_prefix=f\"{norm_type}-{R_type}-{select_best_metric_name}\",\n",
    "                    ggmncv_kwargs=ggmncv_kwargs,\n",
    "                    verbose=verbose,\n",
    "                    disable_plotting=True\n",
    "                )\n",
    "                # prevent plots from being stored past saving\n",
    "                plt.clf()\n",
    "                plt.close('all')\n",
    "            "
   ]
  },
  {
   "cell_type": "markdown",
   "id": "f1ac94ce-9cbe-4440-b607-0d011b8d6aaa",
   "metadata": {},
   "source": [
    "Notes:\n",
    "- When dropping parallel edges (i.e., currents) and using partial-left or partial-right the graphs will be the same as complete, except the values will differ. This is because `drop_parallel_currents` drops the already disconnected branch. "
   ]
  },
  {
   "cell_type": "code",
   "execution_count": 37,
   "id": "fdfe08d9-2c04-47ce-8fa7-63efc9bd0b7f",
   "metadata": {
    "scrolled": true
   },
   "outputs": [
    {
     "data": {
      "application/vnd.jupyter.widget-view+json": {
       "model_id": "1da0c00edfcd4b8cbd8d81192b33cc65",
       "version_major": 2,
       "version_minor": 0
      },
      "text/plain": [
       "  0%|          | 0/9 [00:00<?, ?it/s]"
      ]
     },
     "metadata": {},
     "output_type": "display_data"
    },
    {
     "data": {
      "application/vnd.jupyter.widget-view+json": {
       "model_id": "5c3415756691444e95b359341de10f41",
       "version_major": 2,
       "version_minor": 0
      },
      "text/plain": [
       "  0%|          | 0/1 [00:00<?, ?it/s]"
      ]
     },
     "metadata": {},
     "output_type": "display_data"
    },
    {
     "name": "stdout",
     "output_type": "stream",
     "text": [
      "Save dir path: /home/ben/space/modl/gc4eptn/exps/rtds/v5/ggm/multi-exp/novice/complete/simple/high/fstandardize/1802/rqk\n"
     ]
    },
    {
     "name": "stderr",
     "output_type": "stream",
     "text": [
      "R[write to console]: selecting lambda\n",
      "\n"
     ]
    },
    {
     "name": "stdout",
     "output_type": "stream",
     "text": [
      "  |======================================================================| 100%"
     ]
    },
    {
     "name": "stderr",
     "output_type": "stream",
     "text": [
      "R[write to console]: selecting lambda\n",
      "\n"
     ]
    },
    {
     "name": "stdout",
     "output_type": "stream",
     "text": [
      "  |======================================================================| 100%"
     ]
    },
    {
     "name": "stderr",
     "output_type": "stream",
     "text": [
      "R[write to console]: selecting lambda\n",
      "\n"
     ]
    },
    {
     "name": "stdout",
     "output_type": "stream",
     "text": [
      "  |======================================================================| 100%"
     ]
    },
    {
     "name": "stderr",
     "output_type": "stream",
     "text": [
      "R[write to console]: selecting lambda\n",
      "\n"
     ]
    },
    {
     "name": "stdout",
     "output_type": "stream",
     "text": [
      "  |======================================================================| 100%"
     ]
    },
    {
     "name": "stderr",
     "output_type": "stream",
     "text": [
      "R[write to console]: selecting lambda\n",
      "\n"
     ]
    },
    {
     "name": "stdout",
     "output_type": "stream",
     "text": [
      "  |======================================================================| 100%"
     ]
    },
    {
     "data": {
      "application/vnd.jupyter.widget-view+json": {
       "model_id": "7cd8b9f0911544159269eacff2fdb23e",
       "version_major": 2,
       "version_minor": 0
      },
      "text/plain": [
       "  0%|          | 0/1 [00:00<?, ?it/s]"
      ]
     },
     "metadata": {},
     "output_type": "display_data"
    },
    {
     "name": "stdout",
     "output_type": "stream",
     "text": [
      "Save dir path: /home/ben/space/modl/gc4eptn/exps/rtds/v5/ggm/multi-exp/novice/complete/simple/medium/fstandardize/1802/rqk\n"
     ]
    },
    {
     "name": "stderr",
     "output_type": "stream",
     "text": [
      "R[write to console]: selecting lambda\n",
      "\n"
     ]
    },
    {
     "name": "stdout",
     "output_type": "stream",
     "text": [
      "  |======================================================================| 100%"
     ]
    },
    {
     "name": "stderr",
     "output_type": "stream",
     "text": [
      "R[write to console]: selecting lambda\n",
      "\n"
     ]
    },
    {
     "name": "stdout",
     "output_type": "stream",
     "text": [
      "  |======================================================================| 100%"
     ]
    },
    {
     "name": "stderr",
     "output_type": "stream",
     "text": [
      "R[write to console]: selecting lambda\n",
      "\n"
     ]
    },
    {
     "name": "stdout",
     "output_type": "stream",
     "text": [
      "  |======================================================================| 100%"
     ]
    },
    {
     "name": "stderr",
     "output_type": "stream",
     "text": [
      "R[write to console]: selecting lambda\n",
      "\n"
     ]
    },
    {
     "name": "stdout",
     "output_type": "stream",
     "text": [
      "  |======================================================================| 100%"
     ]
    },
    {
     "name": "stderr",
     "output_type": "stream",
     "text": [
      "R[write to console]: selecting lambda\n",
      "\n"
     ]
    },
    {
     "name": "stdout",
     "output_type": "stream",
     "text": [
      "  |======================================================================| 100%"
     ]
    },
    {
     "data": {
      "application/vnd.jupyter.widget-view+json": {
       "model_id": "cdd83fec2db441959a840236457b940c",
       "version_major": 2,
       "version_minor": 0
      },
      "text/plain": [
       "  0%|          | 0/1 [00:00<?, ?it/s]"
      ]
     },
     "metadata": {},
     "output_type": "display_data"
    },
    {
     "name": "stdout",
     "output_type": "stream",
     "text": [
      "Save dir path: /home/ben/space/modl/gc4eptn/exps/rtds/v5/ggm/multi-exp/novice/complete/simple/low/fstandardize/1802/rqk\n"
     ]
    },
    {
     "name": "stderr",
     "output_type": "stream",
     "text": [
      "R[write to console]: selecting lambda\n",
      "\n"
     ]
    },
    {
     "name": "stdout",
     "output_type": "stream",
     "text": [
      "  |======================================================================| 100%"
     ]
    },
    {
     "name": "stderr",
     "output_type": "stream",
     "text": [
      "R[write to console]: selecting lambda\n",
      "\n"
     ]
    },
    {
     "name": "stdout",
     "output_type": "stream",
     "text": [
      "  |======================================================================| 100%"
     ]
    },
    {
     "name": "stderr",
     "output_type": "stream",
     "text": [
      "R[write to console]: selecting lambda\n",
      "\n"
     ]
    },
    {
     "name": "stdout",
     "output_type": "stream",
     "text": [
      "  |======================================================================| 100%"
     ]
    },
    {
     "name": "stderr",
     "output_type": "stream",
     "text": [
      "R[write to console]: selecting lambda\n",
      "\n"
     ]
    },
    {
     "name": "stdout",
     "output_type": "stream",
     "text": [
      "  |======================================================================| 100%"
     ]
    },
    {
     "name": "stderr",
     "output_type": "stream",
     "text": [
      "R[write to console]: selecting lambda\n",
      "\n"
     ]
    },
    {
     "name": "stdout",
     "output_type": "stream",
     "text": [
      "  |======================================================================| 100%"
     ]
    },
    {
     "data": {
      "application/vnd.jupyter.widget-view+json": {
       "model_id": "058ddb40b15a49b789ac81d83fbe3992",
       "version_major": 2,
       "version_minor": 0
      },
      "text/plain": [
       "  0%|          | 0/1 [00:00<?, ?it/s]"
      ]
     },
     "metadata": {},
     "output_type": "display_data"
    },
    {
     "name": "stdout",
     "output_type": "stream",
     "text": [
      "Save dir path: /home/ben/space/modl/gc4eptn/exps/rtds/v5/ggm/multi-exp/novice/partial-left/simple/high/fstandardize/1802/rqk\n"
     ]
    },
    {
     "name": "stderr",
     "output_type": "stream",
     "text": [
      "R[write to console]: selecting lambda\n",
      "\n"
     ]
    },
    {
     "name": "stdout",
     "output_type": "stream",
     "text": [
      "  |======================================================================| 100%"
     ]
    },
    {
     "name": "stderr",
     "output_type": "stream",
     "text": [
      "R[write to console]: selecting lambda\n",
      "\n"
     ]
    },
    {
     "name": "stdout",
     "output_type": "stream",
     "text": [
      "  |======================================================================| 100%"
     ]
    },
    {
     "name": "stderr",
     "output_type": "stream",
     "text": [
      "R[write to console]: selecting lambda\n",
      "\n"
     ]
    },
    {
     "name": "stdout",
     "output_type": "stream",
     "text": [
      "  |======================================================================| 100%"
     ]
    },
    {
     "name": "stderr",
     "output_type": "stream",
     "text": [
      "R[write to console]: selecting lambda\n",
      "\n"
     ]
    },
    {
     "name": "stdout",
     "output_type": "stream",
     "text": [
      "  |======================================================================| 100%"
     ]
    },
    {
     "name": "stderr",
     "output_type": "stream",
     "text": [
      "R[write to console]: selecting lambda\n",
      "\n"
     ]
    },
    {
     "name": "stdout",
     "output_type": "stream",
     "text": [
      "  |======================================================================| 100%"
     ]
    },
    {
     "data": {
      "application/vnd.jupyter.widget-view+json": {
       "model_id": "b33d59e861cd4f8bb7c82440fa899b67",
       "version_major": 2,
       "version_minor": 0
      },
      "text/plain": [
       "  0%|          | 0/1 [00:00<?, ?it/s]"
      ]
     },
     "metadata": {},
     "output_type": "display_data"
    },
    {
     "name": "stdout",
     "output_type": "stream",
     "text": [
      "Save dir path: /home/ben/space/modl/gc4eptn/exps/rtds/v5/ggm/multi-exp/novice/partial-left/simple/medium/fstandardize/1802/rqk\n"
     ]
    },
    {
     "name": "stderr",
     "output_type": "stream",
     "text": [
      "R[write to console]: selecting lambda\n",
      "\n"
     ]
    },
    {
     "name": "stdout",
     "output_type": "stream",
     "text": [
      "  |======================================================================| 100%"
     ]
    },
    {
     "name": "stderr",
     "output_type": "stream",
     "text": [
      "R[write to console]: selecting lambda\n",
      "\n"
     ]
    },
    {
     "name": "stdout",
     "output_type": "stream",
     "text": [
      "  |======================================================================| 100%"
     ]
    },
    {
     "name": "stderr",
     "output_type": "stream",
     "text": [
      "R[write to console]: selecting lambda\n",
      "\n"
     ]
    },
    {
     "name": "stdout",
     "output_type": "stream",
     "text": [
      "  |======================================================================| 100%"
     ]
    },
    {
     "name": "stderr",
     "output_type": "stream",
     "text": [
      "R[write to console]: selecting lambda\n",
      "\n"
     ]
    },
    {
     "name": "stdout",
     "output_type": "stream",
     "text": [
      "  |======================================================================| 100%"
     ]
    },
    {
     "name": "stderr",
     "output_type": "stream",
     "text": [
      "R[write to console]: selecting lambda\n",
      "\n"
     ]
    },
    {
     "name": "stdout",
     "output_type": "stream",
     "text": [
      "  |======================================================================| 100%"
     ]
    },
    {
     "data": {
      "application/vnd.jupyter.widget-view+json": {
       "model_id": "01259d00fecf46839962fae478edbf1d",
       "version_major": 2,
       "version_minor": 0
      },
      "text/plain": [
       "  0%|          | 0/1 [00:00<?, ?it/s]"
      ]
     },
     "metadata": {},
     "output_type": "display_data"
    },
    {
     "name": "stdout",
     "output_type": "stream",
     "text": [
      "Save dir path: /home/ben/space/modl/gc4eptn/exps/rtds/v5/ggm/multi-exp/novice/partial-left/simple/low/fstandardize/1802/rqk\n"
     ]
    },
    {
     "name": "stderr",
     "output_type": "stream",
     "text": [
      "R[write to console]: selecting lambda\n",
      "\n"
     ]
    },
    {
     "name": "stdout",
     "output_type": "stream",
     "text": [
      "  |======================================================================| 100%"
     ]
    },
    {
     "name": "stderr",
     "output_type": "stream",
     "text": [
      "R[write to console]: selecting lambda\n",
      "\n"
     ]
    },
    {
     "name": "stdout",
     "output_type": "stream",
     "text": [
      "  |======================================================================| 100%"
     ]
    },
    {
     "name": "stderr",
     "output_type": "stream",
     "text": [
      "R[write to console]: selecting lambda\n",
      "\n"
     ]
    },
    {
     "name": "stdout",
     "output_type": "stream",
     "text": [
      "  |======================================================================| 100%"
     ]
    },
    {
     "name": "stderr",
     "output_type": "stream",
     "text": [
      "R[write to console]: selecting lambda\n",
      "\n"
     ]
    },
    {
     "name": "stdout",
     "output_type": "stream",
     "text": [
      "  |======================================================================| 100%"
     ]
    },
    {
     "name": "stderr",
     "output_type": "stream",
     "text": [
      "R[write to console]: selecting lambda\n",
      "\n"
     ]
    },
    {
     "name": "stdout",
     "output_type": "stream",
     "text": [
      "  |======================================================================| 100%"
     ]
    },
    {
     "data": {
      "application/vnd.jupyter.widget-view+json": {
       "model_id": "59b0164ad3824f0fba088679cfd3059f",
       "version_major": 2,
       "version_minor": 0
      },
      "text/plain": [
       "  0%|          | 0/1 [00:00<?, ?it/s]"
      ]
     },
     "metadata": {},
     "output_type": "display_data"
    },
    {
     "name": "stdout",
     "output_type": "stream",
     "text": [
      "Save dir path: /home/ben/space/modl/gc4eptn/exps/rtds/v5/ggm/multi-exp/novice/partial-right/simple/high/fstandardize/1802/rqk\n"
     ]
    },
    {
     "name": "stderr",
     "output_type": "stream",
     "text": [
      "R[write to console]: selecting lambda\n",
      "\n"
     ]
    },
    {
     "name": "stdout",
     "output_type": "stream",
     "text": [
      "  |======================================================================| 100%"
     ]
    },
    {
     "name": "stderr",
     "output_type": "stream",
     "text": [
      "R[write to console]: selecting lambda\n",
      "\n"
     ]
    },
    {
     "name": "stdout",
     "output_type": "stream",
     "text": [
      "  |======================================================================| 100%"
     ]
    },
    {
     "name": "stderr",
     "output_type": "stream",
     "text": [
      "R[write to console]: selecting lambda\n",
      "\n"
     ]
    },
    {
     "name": "stdout",
     "output_type": "stream",
     "text": [
      "  |======================================================================| 100%"
     ]
    },
    {
     "name": "stderr",
     "output_type": "stream",
     "text": [
      "R[write to console]: selecting lambda\n",
      "\n"
     ]
    },
    {
     "name": "stdout",
     "output_type": "stream",
     "text": [
      "  |======================================================================| 100%"
     ]
    },
    {
     "name": "stderr",
     "output_type": "stream",
     "text": [
      "R[write to console]: selecting lambda\n",
      "\n"
     ]
    },
    {
     "name": "stdout",
     "output_type": "stream",
     "text": [
      "  |======================================================================| 100%"
     ]
    },
    {
     "data": {
      "application/vnd.jupyter.widget-view+json": {
       "model_id": "9925dd8c468444f1872843615b851dfe",
       "version_major": 2,
       "version_minor": 0
      },
      "text/plain": [
       "  0%|          | 0/1 [00:00<?, ?it/s]"
      ]
     },
     "metadata": {},
     "output_type": "display_data"
    },
    {
     "name": "stdout",
     "output_type": "stream",
     "text": [
      "Save dir path: /home/ben/space/modl/gc4eptn/exps/rtds/v5/ggm/multi-exp/novice/partial-right/simple/medium/fstandardize/1802/rqk\n"
     ]
    },
    {
     "name": "stderr",
     "output_type": "stream",
     "text": [
      "R[write to console]: selecting lambda\n",
      "\n"
     ]
    },
    {
     "name": "stdout",
     "output_type": "stream",
     "text": [
      "  |======================================================================| 100%"
     ]
    },
    {
     "name": "stderr",
     "output_type": "stream",
     "text": [
      "R[write to console]: selecting lambda\n",
      "\n"
     ]
    },
    {
     "name": "stdout",
     "output_type": "stream",
     "text": [
      "  |======================================================================| 100%"
     ]
    },
    {
     "name": "stderr",
     "output_type": "stream",
     "text": [
      "R[write to console]: selecting lambda\n",
      "\n"
     ]
    },
    {
     "name": "stdout",
     "output_type": "stream",
     "text": [
      "  |======================================================================| 100%"
     ]
    },
    {
     "name": "stderr",
     "output_type": "stream",
     "text": [
      "R[write to console]: selecting lambda\n",
      "\n"
     ]
    },
    {
     "name": "stdout",
     "output_type": "stream",
     "text": [
      "  |======================================================================| 100%"
     ]
    },
    {
     "name": "stderr",
     "output_type": "stream",
     "text": [
      "R[write to console]: selecting lambda\n",
      "\n"
     ]
    },
    {
     "name": "stdout",
     "output_type": "stream",
     "text": [
      "  |======================================================================| 100%"
     ]
    },
    {
     "data": {
      "application/vnd.jupyter.widget-view+json": {
       "model_id": "554440ff08764778bcd599d43f3739b5",
       "version_major": 2,
       "version_minor": 0
      },
      "text/plain": [
       "  0%|          | 0/1 [00:00<?, ?it/s]"
      ]
     },
     "metadata": {},
     "output_type": "display_data"
    },
    {
     "name": "stdout",
     "output_type": "stream",
     "text": [
      "Save dir path: /home/ben/space/modl/gc4eptn/exps/rtds/v5/ggm/multi-exp/novice/partial-right/simple/low/fstandardize/1802/rqk\n"
     ]
    },
    {
     "name": "stderr",
     "output_type": "stream",
     "text": [
      "R[write to console]: selecting lambda\n",
      "\n"
     ]
    },
    {
     "name": "stdout",
     "output_type": "stream",
     "text": [
      "  |======================================================================| 100%"
     ]
    },
    {
     "name": "stderr",
     "output_type": "stream",
     "text": [
      "R[write to console]: selecting lambda\n",
      "\n"
     ]
    },
    {
     "name": "stdout",
     "output_type": "stream",
     "text": [
      "  |======================================================================| 100%"
     ]
    },
    {
     "name": "stderr",
     "output_type": "stream",
     "text": [
      "R[write to console]: selecting lambda\n",
      "\n"
     ]
    },
    {
     "name": "stdout",
     "output_type": "stream",
     "text": [
      "  |======================================================================| 100%"
     ]
    },
    {
     "name": "stderr",
     "output_type": "stream",
     "text": [
      "R[write to console]: selecting lambda\n",
      "\n"
     ]
    },
    {
     "name": "stdout",
     "output_type": "stream",
     "text": [
      "  |======================================================================| 100%"
     ]
    },
    {
     "name": "stderr",
     "output_type": "stream",
     "text": [
      "R[write to console]: selecting lambda\n",
      "\n"
     ]
    },
    {
     "name": "stdout",
     "output_type": "stream",
     "text": [
      "  |======================================================================| 100%"
     ]
    }
   ],
   "source": [
    "multi_ggm_exps(\n",
    "    dataset_type='rtds',\n",
    "    dataset_versions=['v5'],\n",
    "    difficulties=['novice'],\n",
    "    R_types=['rqk'],\n",
    "    penalties = ['lasso', 'scad', 'mcp', 'atan', 'selo'],\n",
    "    net_pmu_kwargs=[dict(drop_parallel_currents=True)]\n",
    ")"
   ]
  },
  {
   "cell_type": "markdown",
   "id": "9af3a051-5b19-4870-95e7-add7766d5074",
   "metadata": {},
   "source": [
    "## Case9"
   ]
  },
  {
   "cell_type": "code",
   "execution_count": 39,
   "id": "09a423c1-ae07-421a-af9b-14e1cde8fa04",
   "metadata": {
    "scrolled": true
   },
   "outputs": [
    {
     "data": {
      "application/vnd.jupyter.widget-view+json": {
       "model_id": "7c46d22a4d02421d9d04015a0ec4759b",
       "version_major": 2,
       "version_minor": 0
      },
      "text/plain": [
       "  0%|          | 0/4 [00:00<?, ?it/s]"
      ]
     },
     "metadata": {},
     "output_type": "display_data"
    },
    {
     "data": {
      "application/vnd.jupyter.widget-view+json": {
       "model_id": "5c89e90c74714cdfae1dfdd02a35c538",
       "version_major": 2,
       "version_minor": 0
      },
      "text/plain": [
       "  0%|          | 0/1 [00:00<?, ?it/s]"
      ]
     },
     "metadata": {},
     "output_type": "display_data"
    },
    {
     "name": "stdout",
     "output_type": "stream",
     "text": [
      "Save dir path: /home/ben/space/modl/gc4eptn/exps/matpower/case9/ggm/multi-exp/novice/complete/simple/80-90/fstandardize/5000/rqk\n"
     ]
    },
    {
     "name": "stderr",
     "output_type": "stream",
     "text": [
      "R[write to console]: selecting lambda\n",
      "\n"
     ]
    },
    {
     "name": "stdout",
     "output_type": "stream",
     "text": [
      "  |======================================================================| 100%"
     ]
    },
    {
     "name": "stderr",
     "output_type": "stream",
     "text": [
      "R[write to console]: selecting lambda\n",
      "\n"
     ]
    },
    {
     "name": "stdout",
     "output_type": "stream",
     "text": [
      "  |======================================================================| 100%"
     ]
    },
    {
     "name": "stderr",
     "output_type": "stream",
     "text": [
      "R[write to console]: selecting lambda\n",
      "\n"
     ]
    },
    {
     "name": "stdout",
     "output_type": "stream",
     "text": [
      "  |======================================================================| 100%"
     ]
    },
    {
     "name": "stderr",
     "output_type": "stream",
     "text": [
      "R[write to console]: selecting lambda\n",
      "\n"
     ]
    },
    {
     "name": "stdout",
     "output_type": "stream",
     "text": [
      "  |======================================================================| 100%"
     ]
    },
    {
     "name": "stderr",
     "output_type": "stream",
     "text": [
      "R[write to console]: selecting lambda\n",
      "\n"
     ]
    },
    {
     "name": "stdout",
     "output_type": "stream",
     "text": [
      "  |======================================================================| 100%"
     ]
    },
    {
     "data": {
      "application/vnd.jupyter.widget-view+json": {
       "model_id": "6a57a3b6a83a436980d16526c0425232",
       "version_major": 2,
       "version_minor": 0
      },
      "text/plain": [
       "  0%|          | 0/1 [00:00<?, ?it/s]"
      ]
     },
     "metadata": {},
     "output_type": "display_data"
    },
    {
     "name": "stdout",
     "output_type": "stream",
     "text": [
      "Save dir path: /home/ben/space/modl/gc4eptn/exps/matpower/case9/ggm/multi-exp/novice/complete/simple/100-110/fstandardize/5000/rqk\n"
     ]
    },
    {
     "name": "stderr",
     "output_type": "stream",
     "text": [
      "R[write to console]: selecting lambda\n",
      "\n"
     ]
    },
    {
     "name": "stdout",
     "output_type": "stream",
     "text": [
      "  |======================================================================| 100%"
     ]
    },
    {
     "name": "stderr",
     "output_type": "stream",
     "text": [
      "R[write to console]: selecting lambda\n",
      "\n"
     ]
    },
    {
     "name": "stdout",
     "output_type": "stream",
     "text": [
      "  |======================================================================| 100%"
     ]
    },
    {
     "name": "stderr",
     "output_type": "stream",
     "text": [
      "R[write to console]: selecting lambda\n",
      "\n"
     ]
    },
    {
     "name": "stdout",
     "output_type": "stream",
     "text": [
      "  |======================================================================| 100%"
     ]
    },
    {
     "name": "stderr",
     "output_type": "stream",
     "text": [
      "R[write to console]: selecting lambda\n",
      "\n"
     ]
    },
    {
     "name": "stdout",
     "output_type": "stream",
     "text": [
      "  |======================================================================| 100%"
     ]
    },
    {
     "name": "stderr",
     "output_type": "stream",
     "text": [
      "R[write to console]: selecting lambda\n",
      "\n"
     ]
    },
    {
     "name": "stdout",
     "output_type": "stream",
     "text": [
      "  |======================================================================| 100%"
     ]
    },
    {
     "data": {
      "application/vnd.jupyter.widget-view+json": {
       "model_id": "65630583b72a40398f61fea3ffd12392",
       "version_major": 2,
       "version_minor": 0
      },
      "text/plain": [
       "  0%|          | 0/1 [00:00<?, ?it/s]"
      ]
     },
     "metadata": {},
     "output_type": "display_data"
    },
    {
     "name": "stdout",
     "output_type": "stream",
     "text": [
      "Save dir path: /home/ben/space/modl/gc4eptn/exps/matpower/case9/ggm/multi-exp/novice/complete/simple/110-120/fstandardize/5000/rqk\n"
     ]
    },
    {
     "name": "stderr",
     "output_type": "stream",
     "text": [
      "R[write to console]: selecting lambda\n",
      "\n"
     ]
    },
    {
     "name": "stdout",
     "output_type": "stream",
     "text": [
      "  |======================================================================| 100%"
     ]
    },
    {
     "name": "stderr",
     "output_type": "stream",
     "text": [
      "R[write to console]: selecting lambda\n",
      "\n"
     ]
    },
    {
     "name": "stdout",
     "output_type": "stream",
     "text": [
      "  |======================================================================| 100%"
     ]
    },
    {
     "name": "stderr",
     "output_type": "stream",
     "text": [
      "R[write to console]: selecting lambda\n",
      "\n"
     ]
    },
    {
     "name": "stdout",
     "output_type": "stream",
     "text": [
      "  |======================================================================| 100%"
     ]
    },
    {
     "name": "stderr",
     "output_type": "stream",
     "text": [
      "R[write to console]: selecting lambda\n",
      "\n"
     ]
    },
    {
     "name": "stdout",
     "output_type": "stream",
     "text": [
      "  |======================================================================| 100%"
     ]
    },
    {
     "name": "stderr",
     "output_type": "stream",
     "text": [
      "R[write to console]: selecting lambda\n",
      "\n"
     ]
    },
    {
     "name": "stdout",
     "output_type": "stream",
     "text": [
      "  |======================================================================| 100%"
     ]
    },
    {
     "data": {
      "application/vnd.jupyter.widget-view+json": {
       "model_id": "fb6fbd412e7542228ec25436a0d3e5da",
       "version_major": 2,
       "version_minor": 0
      },
      "text/plain": [
       "  0%|          | 0/1 [00:00<?, ?it/s]"
      ]
     },
     "metadata": {},
     "output_type": "display_data"
    },
    {
     "name": "stdout",
     "output_type": "stream",
     "text": [
      "Save dir path: /home/ben/space/modl/gc4eptn/exps/matpower/case9/ggm/multi-exp/novice/complete/simple/80-120/fstandardize/5000/rqk\n"
     ]
    },
    {
     "name": "stderr",
     "output_type": "stream",
     "text": [
      "R[write to console]: selecting lambda\n",
      "\n"
     ]
    },
    {
     "name": "stdout",
     "output_type": "stream",
     "text": [
      "  |======================================================================| 100%"
     ]
    },
    {
     "name": "stderr",
     "output_type": "stream",
     "text": [
      "R[write to console]: selecting lambda\n",
      "\n"
     ]
    },
    {
     "name": "stdout",
     "output_type": "stream",
     "text": [
      "  |======================================================================| 100%"
     ]
    },
    {
     "name": "stderr",
     "output_type": "stream",
     "text": [
      "R[write to console]: selecting lambda\n",
      "\n"
     ]
    },
    {
     "name": "stdout",
     "output_type": "stream",
     "text": [
      "  |======================================================================| 100%"
     ]
    },
    {
     "name": "stderr",
     "output_type": "stream",
     "text": [
      "R[write to console]: selecting lambda\n",
      "\n"
     ]
    },
    {
     "name": "stdout",
     "output_type": "stream",
     "text": [
      "  |======================================================================| 100%"
     ]
    },
    {
     "name": "stderr",
     "output_type": "stream",
     "text": [
      "R[write to console]: selecting lambda\n",
      "\n"
     ]
    },
    {
     "name": "stdout",
     "output_type": "stream",
     "text": [
      "  |======================================================================| 100%"
     ]
    }
   ],
   "source": [
    "multi_ggm_exps(\n",
    "    dataset_type='matpower',\n",
    "    dataset_versions=['case9'],\n",
    "    difficulties=['novice'],\n",
    "    topologies = ['complete'],\n",
    "    load_types=['80-90', '100-110', '110-120', '80-120'],\n",
    "    R_types=['rqk'],\n",
    "    penalties = ['lasso', 'scad', 'mcp', 'atan', 'selo'],\n",
    ")"
   ]
  },
  {
   "cell_type": "markdown",
   "id": "86fece0d-d8d2-4268-98b6-ed2694a01065",
   "metadata": {},
   "source": [
    "## Case14"
   ]
  },
  {
   "cell_type": "code",
   "execution_count": null,
   "id": "250e5af7-6de1-4b61-b1cc-fecf06310473",
   "metadata": {
    "scrolled": true
   },
   "outputs": [
    {
     "data": {
      "application/vnd.jupyter.widget-view+json": {
       "model_id": "f81ef11f2d3e4d5abe81b92669ffbfbd",
       "version_major": 2,
       "version_minor": 0
      },
      "text/plain": [
       "  0%|          | 0/4 [00:00<?, ?it/s]"
      ]
     },
     "metadata": {},
     "output_type": "display_data"
    },
    {
     "data": {
      "application/vnd.jupyter.widget-view+json": {
       "model_id": "d1633e4eee23495088aa2926b33e5c5d",
       "version_major": 2,
       "version_minor": 0
      },
      "text/plain": [
       "  0%|          | 0/1 [00:00<?, ?it/s]"
      ]
     },
     "metadata": {},
     "output_type": "display_data"
    },
    {
     "name": "stdout",
     "output_type": "stream",
     "text": [
      "Save dir path: /home/ben/space/modl/gc4eptn/exps/matpower/case14/ggm/multi-exp/novice/complete/simple/80-90/fstandardize/5000/rqk\n"
     ]
    },
    {
     "name": "stderr",
     "output_type": "stream",
     "text": [
      "R[write to console]: selecting lambda\n",
      "\n"
     ]
    },
    {
     "name": "stdout",
     "output_type": "stream",
     "text": [
      "  |======================================================================| 100%"
     ]
    },
    {
     "name": "stderr",
     "output_type": "stream",
     "text": [
      "R[write to console]: selecting lambda\n",
      "\n"
     ]
    },
    {
     "name": "stdout",
     "output_type": "stream",
     "text": [
      "  |======================================================================| 100%"
     ]
    },
    {
     "name": "stderr",
     "output_type": "stream",
     "text": [
      "R[write to console]: selecting lambda\n",
      "\n"
     ]
    },
    {
     "name": "stdout",
     "output_type": "stream",
     "text": [
      "  |================================                                      |  46%"
     ]
    },
    {
     "name": "stderr",
     "output_type": "stream",
     "text": [
      "Exception ignored from cffi callback <function _consolewrite_ex at 0x7ff5a34e13f0>:\n",
      "Traceback (most recent call last):\n",
      "  File \"/home/ben/miniconda3/envs/gc4eptn/lib/python3.10/site-packages/rpy2/rinterface_lib/callbacks.py\", line 130, in _consolewrite_ex\n",
      "    @ffi_proxy.callback(ffi_proxy._consolewrite_ex_def,\n",
      "KeyboardInterrupt: \n"
     ]
    },
    {
     "name": "stdout",
     "output_type": "stream",
     "text": [
      "  |===================================                                   |  50%"
     ]
    },
    {
     "name": "stderr",
     "output_type": "stream",
     "text": [
      "Exception ignored from cffi callback <function _consolewrite_ex at 0x7ff5a34e13f0>:\n",
      "Traceback (most recent call last):\n",
      "  File \"/home/ben/miniconda3/envs/gc4eptn/lib/python3.10/site-packages/rpy2/rinterface_lib/callbacks.py\", line 130, in _consolewrite_ex\n",
      "    @ffi_proxy.callback(ffi_proxy._consolewrite_ex_def,\n",
      "KeyboardInterrupt: \n"
     ]
    },
    {
     "name": "stdout",
     "output_type": "stream",
     "text": [
      "  |====================================                                  |  51%"
     ]
    }
   ],
   "source": [
    "multi_ggm_exps(\n",
    "    dataset_type='matpower',\n",
    "    dataset_versions=['case14'],\n",
    "    difficulties=['novice'],\n",
    "    topologies = ['complete'],\n",
    "    load_types=['80-90', '100-110', '110-120', '80-120'],\n",
    "    R_types=['rqk'],\n",
    "    penalties = ['lasso', 'scad', 'mcp', 'atan', 'selo'],\n",
    ")"
   ]
  }
 ],
 "metadata": {
  "kernelspec": {
   "display_name": "Python 3 (ipykernel)",
   "language": "python",
   "name": "python3"
  },
  "language_info": {
   "codemirror_mode": {
    "name": "ipython",
    "version": 3
   },
   "file_extension": ".py",
   "mimetype": "text/x-python",
   "name": "python",
   "nbconvert_exporter": "python",
   "pygments_lexer": "ipython3",
   "version": "3.10.14"
  }
 },
 "nbformat": 4,
 "nbformat_minor": 5
}
