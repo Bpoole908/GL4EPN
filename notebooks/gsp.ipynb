{
 "cells": [
  {
   "cell_type": "code",
   "execution_count": 5,
   "id": "4e73676e-78ee-472f-93b3-14be39f99e1f",
   "metadata": {},
   "outputs": [
    {
     "name": "stdout",
     "output_type": "stream",
     "text": [
      "The autoreload extension is already loaded. To reload it, use:\n",
      "  %reload_ext autoreload\n"
     ]
    }
   ],
   "source": [
    "import traceback\n",
    "from typing import (\n",
    "    List,\n",
    "    Dict\n",
    ")\n",
    "from functools import partial\n",
    "from itertools import product\n",
    "\n",
    "import numpy as np\n",
    "import networkx as nx\n",
    "import pandas as pd\n",
    "import matplotlib.pyplot as plt\n",
    "from IPython.core.debugger import set_trace\n",
    "from tqdm.auto import tqdm\n",
    "\n",
    "from gc4eptn import dataloaders\n",
    "from gc4eptn.utils import norms\n",
    "from gc4eptn.gsp import single_gsp_exp\n",
    "from gc4eptn.utils.utils import (\n",
    "    get_module_root, \n",
    "    get_dataloader,\n",
    "    to_adjacency,\n",
    "    exp_log_grid,\n",
    "    build_experiment_path,\n",
    ")\n",
    "\n",
    "from gc4eptn.utils.metrics import (\n",
    "    graph_fscore,\n",
    "    graph_fbscore,\n",
    "    graph_precision,\n",
    "    graph_recall,\n",
    "    hamming_distance,\n",
    "    ebic,\n",
    ")\n",
    "%load_ext autoreload\n",
    "%autoreload 2"
   ]
  },
  {
   "cell_type": "code",
   "execution_count": 6,
   "id": "6b035975-9cac-4828-92c0-2416d732ee78",
   "metadata": {},
   "outputs": [],
   "source": [
    "fstandardize = partial(\n",
    "    norms.feature_norm,\n",
    "    norm_fn=norms.standardize,\n",
    "    features=['V_mag', 'V_ang', 'I_ang', 'I_mag']\n",
    ")"
   ]
  },
  {
   "cell_type": "code",
   "execution_count": 7,
   "id": "ea5b7748-b335-4da4-a650-9d4fdc1ad9c5",
   "metadata": {},
   "outputs": [],
   "source": [
    "metrics = {\n",
    "    'hd': dict(\n",
    "        fn=hamming_distance,\n",
    "        type='lowest'\n",
    "    ),\n",
    "    'f-score': dict(\n",
    "        fn=graph_fscore,\n",
    "        type='highest'\n",
    "    ),\n",
    "    'fb-score': dict(\n",
    "        fn=partial(graph_fbscore, beta=2),\n",
    "        type='highest'\n",
    "    ),\n",
    "    'precision': dict(\n",
    "        fn=graph_precision,\n",
    "        type='highest'\n",
    "    ),\n",
    "    'recall': dict(\n",
    "        fn=graph_recall,\n",
    "        type='highest'\n",
    "    ),\n",
    "}"
   ]
  },
  {
   "cell_type": "markdown",
   "id": "a02edc51-593f-4d62-93c4-16e04b342b5e",
   "metadata": {},
   "source": [
    "# Multi-Experiments"
   ]
  },
  {
   "cell_type": "code",
   "execution_count": 8,
   "id": "d6f5482a-7569-4a65-973a-72f530c93140",
   "metadata": {},
   "outputs": [],
   "source": [
    "def multi_gsp_exps(\n",
    "    dataset_type: str = 'rtds',\n",
    "    dataset_versions: List[str] = ['v5'],\n",
    "    difficulties: List[str] = ['novice'],\n",
    "    topologies = ['complete', 'partial-left', 'partial-right'],\n",
    "    load_types: List[str] = ['high', 'medium', 'low'],\n",
    "    n_samples: int = [None],\n",
    "    metrics: Dict = metrics,\n",
    "    best_metric_names: List[str] = ['fb-score'], \n",
    "    net_pmu_kwargs: List[Dict] = [None],\n",
    "    norm_types: List[str] = ['fstandardize'],\n",
    "    seed: int = 0,\n",
    "    verbose: bool = False,\n",
    "    *,\n",
    "    ratios=exp_log_grid(100, 3000, 100, 2),\n",
    "    taus=[0.0001],\n",
    "):\n",
    "    \"\"\" Automates running of multiple GSP experiements. \n",
    "\n",
    "        Args:\n",
    "            norm_types: List containing the names of normalization functions to run.\n",
    "                Use the string 'raw' to apply NO normalization.\n",
    "    \"\"\"\n",
    "    pmu = list(product(dataset_versions, difficulties, topologies, load_types, net_pmu_kwargs))\n",
    "    build = list(product(norm_types, n_samples))\n",
    "    exps = list(product(best_metric_names, taus))\n",
    "    ###########################################################\n",
    "    for dataset_version, difficulty, topology, load, net_kwargs in tqdm(pmu):\n",
    "        pmuds_class = get_dataloader(dataset_type, dataset_version, difficulty)\n",
    "\n",
    "        net_kwargs = net_kwargs if net_kwargs is not None else {}\n",
    "        net_kwargs['load'] = load\n",
    "        net_kwargs['topology'] = topology\n",
    "        \n",
    "        net_pmuds = pmuds_class(**net_kwargs).load_data()\n",
    "\n",
    "        data_type_path = build_experiment_path(\n",
    "            subdirs=[\n",
    "                dataset_type,\n",
    "                dataset_version,\n",
    "                'gsp',\n",
    "                'multi-exp',\n",
    "                difficulty,\n",
    "                topology,\n",
    "                'simple' if net_pmuds.drop_parallel_currents else 'multi-edge',\n",
    "                '-'.join(load) if isinstance(load, list) else load,\n",
    "            ]\n",
    "        ) \n",
    "        ################################\n",
    "        for norm_type, n in tqdm(build):\n",
    "            norm_fn = globals()[norm_type] if  norm_type is not None else None\n",
    "\n",
    "            X = net_pmuds.build_graph_data(\n",
    "                n=n, \n",
    "                norm_fn=norm_fn,\n",
    "                random=True,\n",
    "                rng=np.random.default_rng(seed=seed),\n",
    "             ).graph_df\n",
    "            \n",
    "            save_dir_path = build_experiment_path(\n",
    "                subdirs=[\n",
    "                    norm_type, \n",
    "                    n if n is not None else len(net_pmuds.df),\n",
    "                ],\n",
    "                path=data_type_path,\n",
    "            )\n",
    "            print(f\"Save dir path: {save_dir_path}\")\n",
    "            ########################################\n",
    "            for select_best_metric_name, tau in exps:\n",
    "                select_best_metric = metrics[select_best_metric_name]\n",
    "                save_path_score = save_dir_path/select_best_metric_name\n",
    "         \n",
    "                single_gsp_exp(\n",
    "                    X=X.T,\n",
    "                    A=net_pmuds.true_network_graph,\n",
    "                    ratios=ratios,\n",
    "                    tau=tau,\n",
    "                    metric_fn=select_best_metric['fn'],\n",
    "                    select_metric=select_best_metric['type'],\n",
    "                    positions=net_pmuds.graph_positions,\n",
    "                    labels=net_pmuds.labels,\n",
    "                    annot=True,\n",
    "                    save_dir_path=save_path_score,\n",
    "                    verbose=verbose,\n",
    "                    disable_plotting=True\n",
    "                )\n",
    "                # prevent plots from being stored past saving\n",
    "                plt.clf()\n",
    "                plt.close('all')\n",
    "   "
   ]
  },
  {
   "cell_type": "markdown",
   "id": "a5346238-b953-4f25-9d7f-179045d25920",
   "metadata": {},
   "source": [
    "## RTDS"
   ]
  },
  {
   "cell_type": "markdown",
   "id": "2808799f-820e-4a0f-b72f-6f3c0100921b",
   "metadata": {},
   "source": [
    "### v5"
   ]
  },
  {
   "cell_type": "code",
   "execution_count": 11,
   "id": "cc4df368-e6fb-43c9-b35d-e288da3095b7",
   "metadata": {
    "scrolled": true
   },
   "outputs": [
    {
     "data": {
      "application/vnd.jupyter.widget-view+json": {
       "model_id": "b94b4ab7ad3f43d6802b54dcae00544b",
       "version_major": 2,
       "version_minor": 0
      },
      "text/plain": [
       "  0%|          | 0/9 [00:00<?, ?it/s]"
      ]
     },
     "metadata": {},
     "output_type": "display_data"
    },
    {
     "data": {
      "application/vnd.jupyter.widget-view+json": {
       "model_id": "48b3cee44f6a4181bba01e47ae553127",
       "version_major": 2,
       "version_minor": 0
      },
      "text/plain": [
       "  0%|          | 0/1 [00:00<?, ?it/s]"
      ]
     },
     "metadata": {},
     "output_type": "display_data"
    },
    {
     "name": "stdout",
     "output_type": "stream",
     "text": [
      "Save dir path: /home/ben/space/modl/gc4eptn/exps/rtds/v5/gsp/multi-exp/novice/complete/multi-edge/high/fstandardize/1802\n"
     ]
    },
    {
     "data": {
      "application/vnd.jupyter.widget-view+json": {
       "model_id": "3ecb425dbf86464bb6bbd2613b9cf357",
       "version_major": 2,
       "version_minor": 0
      },
      "text/plain": [
       "  0%|          | 0/1 [00:00<?, ?it/s]"
      ]
     },
     "metadata": {},
     "output_type": "display_data"
    },
    {
     "name": "stdout",
     "output_type": "stream",
     "text": [
      "Save dir path: /home/ben/space/modl/gc4eptn/exps/rtds/v5/gsp/multi-exp/novice/complete/multi-edge/medium/fstandardize/1802\n"
     ]
    },
    {
     "data": {
      "application/vnd.jupyter.widget-view+json": {
       "model_id": "1f08a910a6a6404ab9342ccf416463c7",
       "version_major": 2,
       "version_minor": 0
      },
      "text/plain": [
       "  0%|          | 0/1 [00:00<?, ?it/s]"
      ]
     },
     "metadata": {},
     "output_type": "display_data"
    },
    {
     "name": "stdout",
     "output_type": "stream",
     "text": [
      "Save dir path: /home/ben/space/modl/gc4eptn/exps/rtds/v5/gsp/multi-exp/novice/complete/multi-edge/low/fstandardize/1802\n"
     ]
    },
    {
     "data": {
      "application/vnd.jupyter.widget-view+json": {
       "model_id": "9707605f729b45f8b10f4958cfb1b825",
       "version_major": 2,
       "version_minor": 0
      },
      "text/plain": [
       "  0%|          | 0/1 [00:00<?, ?it/s]"
      ]
     },
     "metadata": {},
     "output_type": "display_data"
    },
    {
     "name": "stdout",
     "output_type": "stream",
     "text": [
      "Save dir path: /home/ben/space/modl/gc4eptn/exps/rtds/v5/gsp/multi-exp/novice/partial-left/multi-edge/high/fstandardize/1802\n"
     ]
    },
    {
     "data": {
      "application/vnd.jupyter.widget-view+json": {
       "model_id": "9f3b0ef8a4c445d3a141981ea041e539",
       "version_major": 2,
       "version_minor": 0
      },
      "text/plain": [
       "  0%|          | 0/1 [00:00<?, ?it/s]"
      ]
     },
     "metadata": {},
     "output_type": "display_data"
    },
    {
     "name": "stdout",
     "output_type": "stream",
     "text": [
      "Save dir path: /home/ben/space/modl/gc4eptn/exps/rtds/v5/gsp/multi-exp/novice/partial-left/multi-edge/medium/fstandardize/1802\n"
     ]
    },
    {
     "data": {
      "application/vnd.jupyter.widget-view+json": {
       "model_id": "0530fcca60834fa0959c0fb5c0724061",
       "version_major": 2,
       "version_minor": 0
      },
      "text/plain": [
       "  0%|          | 0/1 [00:00<?, ?it/s]"
      ]
     },
     "metadata": {},
     "output_type": "display_data"
    },
    {
     "name": "stdout",
     "output_type": "stream",
     "text": [
      "Save dir path: /home/ben/space/modl/gc4eptn/exps/rtds/v5/gsp/multi-exp/novice/partial-left/multi-edge/low/fstandardize/1802\n"
     ]
    },
    {
     "data": {
      "application/vnd.jupyter.widget-view+json": {
       "model_id": "910f883f544749b5a54e56799a74560f",
       "version_major": 2,
       "version_minor": 0
      },
      "text/plain": [
       "  0%|          | 0/1 [00:00<?, ?it/s]"
      ]
     },
     "metadata": {},
     "output_type": "display_data"
    },
    {
     "name": "stdout",
     "output_type": "stream",
     "text": [
      "Save dir path: /home/ben/space/modl/gc4eptn/exps/rtds/v5/gsp/multi-exp/novice/partial-right/multi-edge/high/fstandardize/1802\n"
     ]
    },
    {
     "data": {
      "application/vnd.jupyter.widget-view+json": {
       "model_id": "e60607a425ec4cf8a455b42594599a51",
       "version_major": 2,
       "version_minor": 0
      },
      "text/plain": [
       "  0%|          | 0/1 [00:00<?, ?it/s]"
      ]
     },
     "metadata": {},
     "output_type": "display_data"
    },
    {
     "name": "stdout",
     "output_type": "stream",
     "text": [
      "Save dir path: /home/ben/space/modl/gc4eptn/exps/rtds/v5/gsp/multi-exp/novice/partial-right/multi-edge/medium/fstandardize/1802\n"
     ]
    },
    {
     "data": {
      "application/vnd.jupyter.widget-view+json": {
       "model_id": "12dac0b08bd04e68be727a8c11a57f42",
       "version_major": 2,
       "version_minor": 0
      },
      "text/plain": [
       "  0%|          | 0/1 [00:00<?, ?it/s]"
      ]
     },
     "metadata": {},
     "output_type": "display_data"
    },
    {
     "name": "stdout",
     "output_type": "stream",
     "text": [
      "Save dir path: /home/ben/space/modl/gc4eptn/exps/rtds/v5/gsp/multi-exp/novice/partial-right/multi-edge/low/fstandardize/1802\n"
     ]
    }
   ],
   "source": [
    "multi_gsp_exps(\n",
    "    dataset_type='rtds',\n",
    "    dataset_versions=['v5'],\n",
    "    difficulties=['novice'],\n",
    "    taus=[0.0001],\n",
    ")"
   ]
  },
  {
   "cell_type": "markdown",
   "id": "c7046ea1-17f3-4197-90c6-56c7589cd233",
   "metadata": {},
   "source": [
    "## MATPOWER"
   ]
  },
  {
   "cell_type": "markdown",
   "id": "fb9fcea8-7002-4ae2-a3aa-f55a2fee95db",
   "metadata": {},
   "source": [
    "### Case9"
   ]
  },
  {
   "cell_type": "code",
   "execution_count": 9,
   "id": "d3a405c2-d9ab-4532-aa4d-c9f9ea515a0b",
   "metadata": {
    "scrolled": true
   },
   "outputs": [
    {
     "data": {
      "application/vnd.jupyter.widget-view+json": {
       "model_id": "a56703acd35744888e5914b9787f05f3",
       "version_major": 2,
       "version_minor": 0
      },
      "text/plain": [
       "  0%|          | 0/4 [00:00<?, ?it/s]"
      ]
     },
     "metadata": {},
     "output_type": "display_data"
    },
    {
     "data": {
      "application/vnd.jupyter.widget-view+json": {
       "model_id": "fe567df253024fb38ecf465f31e6c46f",
       "version_major": 2,
       "version_minor": 0
      },
      "text/plain": [
       "  0%|          | 0/1 [00:00<?, ?it/s]"
      ]
     },
     "metadata": {},
     "output_type": "display_data"
    },
    {
     "name": "stdout",
     "output_type": "stream",
     "text": [
      "Save dir path: /home/ben/space/modl/gc4eptn/exps/matpower/case9/gsp/multi-exp/novice/complete/multi-edge/80-90/fstandardize/1000\n"
     ]
    },
    {
     "data": {
      "application/vnd.jupyter.widget-view+json": {
       "model_id": "1b8d5192e72943fb9e2b06ea3ed559e3",
       "version_major": 2,
       "version_minor": 0
      },
      "text/plain": [
       "  0%|          | 0/1 [00:00<?, ?it/s]"
      ]
     },
     "metadata": {},
     "output_type": "display_data"
    },
    {
     "name": "stdout",
     "output_type": "stream",
     "text": [
      "Save dir path: /home/ben/space/modl/gc4eptn/exps/matpower/case9/gsp/multi-exp/novice/complete/multi-edge/100-110/fstandardize/1000\n"
     ]
    },
    {
     "data": {
      "application/vnd.jupyter.widget-view+json": {
       "model_id": "24f1ee72ce4f43db810a5f746fee6417",
       "version_major": 2,
       "version_minor": 0
      },
      "text/plain": [
       "  0%|          | 0/1 [00:00<?, ?it/s]"
      ]
     },
     "metadata": {},
     "output_type": "display_data"
    },
    {
     "name": "stdout",
     "output_type": "stream",
     "text": [
      "Save dir path: /home/ben/space/modl/gc4eptn/exps/matpower/case9/gsp/multi-exp/novice/complete/multi-edge/110-120/fstandardize/1000\n"
     ]
    },
    {
     "data": {
      "application/vnd.jupyter.widget-view+json": {
       "model_id": "699b3210ddf24dd3a6da660da0f97933",
       "version_major": 2,
       "version_minor": 0
      },
      "text/plain": [
       "  0%|          | 0/1 [00:00<?, ?it/s]"
      ]
     },
     "metadata": {},
     "output_type": "display_data"
    },
    {
     "name": "stdout",
     "output_type": "stream",
     "text": [
      "Save dir path: /home/ben/space/modl/gc4eptn/exps/matpower/case9/gsp/multi-exp/novice/complete/multi-edge/80-120/fstandardize/1000\n"
     ]
    }
   ],
   "source": [
    "multi_gsp_exps(\n",
    "    dataset_type='matpower',\n",
    "    dataset_versions=['case9'],\n",
    "    difficulties=['novice'],\n",
    "    topologies = ['complete'],\n",
    "    load_types=['80-90', '100-110', '110-120', '80-120'],\n",
    "    n_samples=[1000],\n",
    "    taus=[0.0001],\n",
    ")"
   ]
  },
  {
   "cell_type": "markdown",
   "id": "93983175-dfd3-4cc0-8441-42c431c4cd49",
   "metadata": {},
   "source": [
    "### Case14"
   ]
  },
  {
   "cell_type": "code",
   "execution_count": 14,
   "id": "49654efc-0d02-49a6-bf05-067c715fca81",
   "metadata": {
    "scrolled": true
   },
   "outputs": [
    {
     "data": {
      "application/vnd.jupyter.widget-view+json": {
       "model_id": "f5ee71ce250a4cc0aa5e4cce0138380e",
       "version_major": 2,
       "version_minor": 0
      },
      "text/plain": [
       "  0%|          | 0/4 [00:00<?, ?it/s]"
      ]
     },
     "metadata": {},
     "output_type": "display_data"
    },
    {
     "data": {
      "application/vnd.jupyter.widget-view+json": {
       "model_id": "34c5c7785dab4e93827c43006945f9e5",
       "version_major": 2,
       "version_minor": 0
      },
      "text/plain": [
       "  0%|          | 0/1 [00:00<?, ?it/s]"
      ]
     },
     "metadata": {},
     "output_type": "display_data"
    },
    {
     "name": "stdout",
     "output_type": "stream",
     "text": [
      "Save dir path: /home/ben/space/modl/gc4eptn/exps/matpower/case14/gsp/multi-exp/novice/complete/multi-edge/80-90/fstandardize/1000\n"
     ]
    },
    {
     "data": {
      "application/vnd.jupyter.widget-view+json": {
       "model_id": "a49a004d048048d89e8350df301fca4e",
       "version_major": 2,
       "version_minor": 0
      },
      "text/plain": [
       "  0%|          | 0/1 [00:00<?, ?it/s]"
      ]
     },
     "metadata": {},
     "output_type": "display_data"
    },
    {
     "name": "stdout",
     "output_type": "stream",
     "text": [
      "Save dir path: /home/ben/space/modl/gc4eptn/exps/matpower/case14/gsp/multi-exp/novice/complete/multi-edge/100-110/fstandardize/1000\n"
     ]
    },
    {
     "data": {
      "application/vnd.jupyter.widget-view+json": {
       "model_id": "d6155544cf04406da9ce77e0fa04bd1c",
       "version_major": 2,
       "version_minor": 0
      },
      "text/plain": [
       "  0%|          | 0/1 [00:00<?, ?it/s]"
      ]
     },
     "metadata": {},
     "output_type": "display_data"
    },
    {
     "name": "stdout",
     "output_type": "stream",
     "text": [
      "Save dir path: /home/ben/space/modl/gc4eptn/exps/matpower/case14/gsp/multi-exp/novice/complete/multi-edge/110-120/fstandardize/1000\n"
     ]
    },
    {
     "data": {
      "application/vnd.jupyter.widget-view+json": {
       "model_id": "393bf7efe6a74153999a27eaa7eed331",
       "version_major": 2,
       "version_minor": 0
      },
      "text/plain": [
       "  0%|          | 0/1 [00:00<?, ?it/s]"
      ]
     },
     "metadata": {},
     "output_type": "display_data"
    },
    {
     "name": "stdout",
     "output_type": "stream",
     "text": [
      "Save dir path: /home/ben/space/modl/gc4eptn/exps/matpower/case14/gsp/multi-exp/novice/complete/multi-edge/80-120/fstandardize/1000\n"
     ]
    }
   ],
   "source": [
    "multi_gsp_exps(\n",
    "    dataset_type='matpower',\n",
    "    dataset_versions=['case14'],\n",
    "    difficulties=['novice'],\n",
    "    topologies = ['complete'],\n",
    "    load_types=['80-90', '100-110', '110-120', '80-120'],\n",
    "    n_samples=[1000],\n",
    "    taus=[0.0001],\n",
    ")"
   ]
  }
 ],
 "metadata": {
  "kernelspec": {
   "display_name": "Python 3 (ipykernel)",
   "language": "python",
   "name": "python3"
  },
  "language_info": {
   "codemirror_mode": {
    "name": "ipython",
    "version": 3
   },
   "file_extension": ".py",
   "mimetype": "text/x-python",
   "name": "python",
   "nbconvert_exporter": "python",
   "pygments_lexer": "ipython3",
   "version": "3.10.14"
  }
 },
 "nbformat": 4,
 "nbformat_minor": 5
}
