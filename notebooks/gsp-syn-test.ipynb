{
 "cells": [
  {
   "cell_type": "code",
   "execution_count": 22,
   "id": "1bd4eb8d-c08c-4359-a7a7-b66c641e6dca",
   "metadata": {},
   "outputs": [
    {
     "name": "stdout",
     "output_type": "stream",
     "text": [
      "The autoreload extension is already loaded. To reload it, use:\n",
      "  %reload_ext autoreload\n"
     ]
    }
   ],
   "source": [
    "import networkx as nx\n",
    "import numpy as np\n",
    "from cvxopt import matrix, solvers\n",
    "from tqdm.auto import tqdm\n",
    "\n",
    "from gc4eptn.utils import utils\n",
    "from gc4eptn.utils import metrics\n",
    "from gc4eptn import gsp\n",
    "%load_ext autoreload\n",
    "%autoreload 2"
   ]
  },
  {
   "cell_type": "markdown",
   "id": "b2659376-2891-4096-9906-9232ac56fffd",
   "metadata": {
    "jp-MarkdownHeadingCollapsed": true
   },
   "source": [
    "# Example "
   ]
  },
  {
   "cell_type": "markdown",
   "id": "e72e6e80-c693-4748-b149-972205d4ceac",
   "metadata": {},
   "source": [
    "\n",
    "$$\n",
    "\\begin{split}\\begin{array}{ll}\n",
    "\\mbox{minimize}  &  2x_1^2 + x_2^2 + x_1 x_2 + x_1 + x_2 \\\\\n",
    "\\mbox{subject to} & x_1 \\geq 0 \\\\\n",
    "       & x_2 \\geq 0 \\\\\n",
    "       & x_1  + x_2  = 1\n",
    "\\end{array}\\end{split}\n",
    "$$\n",
    "\n",
    "QP Generalization\n",
    "\n",
    "$$\n",
    "1/2 x^\\top P x + q^\\top x\n",
    "$$\n",
    "\n",
    "$P \\in (n \\times n)$ where $n$ is the number of variable and values represent quadratic matrix\n",
    "\n",
    "$q \\in (n \\times 1)$ where $n$ is the number of variable and values represent affine vector\n",
    "\n",
    "$G \\in (n \\times n)$ is the inequality coefficient for $\\leq$. Multiply by -1 to turn $\\geq$ into $\\leq$. Rows correspond equations.\n",
    "\n",
    "$h \\in (m \\times 1)$ is the right-hand side of the inequality equation, where $m$ is the number of inequality equations. Rows correspond equations.\n",
    "\n",
    "$A \\in (1 \\times b)$ is the coefficient of the equality equations, where $b$ is the number of equality equations.\n",
    "\n",
    "$b \\in (b \\times 1)$ is the right-hand side of the equality equation, where $b$ is the number of equality equations. Rows correspond equations."
   ]
  },
  {
   "cell_type": "code",
   "execution_count": 2,
   "id": "ece9e73f-8c04-4ddd-be9a-8f79153bb94c",
   "metadata": {},
   "outputs": [],
   "source": [
    "P = 2*matrix([ [2, .5], [.5, 1] ]) # quadratic terms 1/2 x^T P x so P is\n",
    "\n",
    "q = matrix([1.0, 1.0])\n",
    "\n",
    "G = matrix([[-1.0,0.0],[0.0,-1.0]])\n",
    "\n",
    "h = matrix([0.0,0.0])\n",
    "\n",
    "A = matrix([1.0, 1.0], (1,2))\n",
    "\n",
    "b = matrix(1.0)"
   ]
  },
  {
   "cell_type": "code",
   "execution_count": 3,
   "id": "1519aa9d-5ee3-4894-9540-5c20c3599851",
   "metadata": {},
   "outputs": [
    {
     "name": "stdout",
     "output_type": "stream",
     "text": [
      "     pcost       dcost       gap    pres   dres\n",
      " 0:  1.8889e+00  7.7778e-01  1e+00  2e-16  2e+00\n",
      " 1:  1.8769e+00  1.8320e+00  4e-02  1e-16  6e-02\n",
      " 2:  1.8750e+00  1.8739e+00  1e-03  2e-16  5e-04\n",
      " 3:  1.8750e+00  1.8750e+00  1e-05  1e-16  5e-06\n",
      " 4:  1.8750e+00  1.8750e+00  1e-07  3e-16  5e-08\n",
      "Optimal solution found.\n"
     ]
    }
   ],
   "source": [
    "sol=solvers.qp(P, q, G, h, A, b)"
   ]
  },
  {
   "cell_type": "markdown",
   "id": "adc0a2d3-f633-4268-90ad-b6cef1141642",
   "metadata": {},
   "source": [
    "# GSP Synthetic Data Tests\n",
    "\n",
    "https://github.com/Anou9531/Laplacian/blob/master/code/main.py"
   ]
  },
  {
   "cell_type": "code",
   "execution_count": 18,
   "id": "391de3c0-b844-4a13-8dc7-ab47a7366dc1",
   "metadata": {},
   "outputs": [],
   "source": [
    "class synthetic_data_gen:\n",
    "    def __init__(self, num_vertices=20):\n",
    "        self.num_vertices = num_vertices\n",
    "        self.constants()\n",
    "        self.create_graphs()\n",
    "\n",
    "    def constants(self):\n",
    "        self.alpha_rnd = 0.012\n",
    "        self.beta_rnd = 0.79\n",
    "        self.thr_rnd = 0.06\n",
    "\n",
    "        self.alpha_er = 0.0032\n",
    "        self.beta_er = 0.10\n",
    "        self.thr_er = 0.10\n",
    "\n",
    "        self.alpha_ba = 0.0025\n",
    "        self.beta_ba = 0.05\n",
    "        self.thr_ba = 0.46\n",
    "\n",
    "    def create_graphs(self):\n",
    "        self.create_er_graph()\n",
    "        self.create_ba_graph()\n",
    "        self.create_random_graph()\n",
    "        return\n",
    "\n",
    "    def create_er_graph(self):\n",
    "        self.er_prob = 0.2\n",
    "        self.er_graph = nx.erdos_renyi_graph(self.num_vertices, self.er_prob)\n",
    "        self.er_normL = nx.normalized_laplacian_matrix(self.er_graph)\n",
    "        return\n",
    "\n",
    "    def create_ba_graph(self):\n",
    "        self.ba_graph = nx.barabasi_albert_graph(self.num_vertices, 1)\n",
    "        self.ba_normL = nx.normalized_laplacian_matrix(self.ba_graph)\n",
    "\n",
    "    def create_random_graph(self):\n",
    "        self.random_graph = nx.random_geometric_graph(self.num_vertices, 0.4)\n",
    "        for u, v, d in self.random_graph.edges(data=True):\n",
    "            pos1 = np.array(self.random_graph._node[u]['pos'])\n",
    "            pos2 = np.array(self.random_graph._node[v]['pos'])\n",
    "            d['weight'] = np.exp(-np.linalg.norm(pos1 - pos2) / (2 * 0.5 * 0.5))\n",
    "        self.rg_normL = nx.normalized_laplacian_matrix(self.random_graph)\n",
    "\n",
    "    def get_gs(self, graphL, num_sigs):\n",
    "        D, V = np.linalg.eig(graphL)\n",
    "        idx = D.argsort()[::-1]\n",
    "        D = D[idx]\n",
    "        V = V[:, idx]\n",
    "        sigma = np.linalg.pinv(np.diag(D))\n",
    "        mu = np.zeros(D.shape[0])\n",
    "        gs_coeff = np.random.multivariate_normal(mu, sigma, num_sigs)\n",
    "        gs = np.dot(V, gs_coeff.T)\n",
    "        gs += 0.5 * np.random.randn(*gs.shape)\n",
    "        # Shape of gs is num_nodes x num_sigs\n",
    "        # Output has each row as a signal\n",
    "        return gs.T\n",
    "\n",
    "    def get_graph_signals(self):\n",
    "        # Each row is supposed to be a signal\n",
    "        graph_signals_er = self.get_gs(self.er_normL.toarray(), 100)\n",
    "        graph_signals_ba = self.get_gs(self.ba_normL.toarray(), 100)\n",
    "        graph_signals_rand = self.get_gs(self.rg_normL.toarray(), 100)\n",
    "        return (graph_signals_er, graph_signals_ba, graph_signals_rand)"
   ]
  },
  {
   "cell_type": "code",
   "execution_count": 19,
   "id": "d8f358ec-883f-44ad-9962-67a7f8b7a15d",
   "metadata": {},
   "outputs": [],
   "source": [
    "def L_graph_precision(A, L, thresh=1e-4):\n",
    "    A_hat = utils.to_adjacency(utils.thresholding(L, thresh)) \n",
    "    return metrics.graph_precision(A=A, A_hat=A_hat)\n",
    "\n",
    "def L_graph_recall(A, L, thresh=1e-4):\n",
    "    A_hat = utils.to_adjacency(utils.thresholding(L, thresh)) \n",
    "    return metrics.graph_precision(A_hat=A, A=A_hat)\n",
    "\n",
    "def get_f_score(prec, recall):\n",
    "    return 2 * prec * recall / (prec + recall)\n",
    "\n",
    "def get_MSE(L_out, L_gt):\n",
    "    return np.linalg.norm(L_out - L_gt, 'fro')"
   ]
  },
  {
   "cell_type": "code",
   "execution_count": 20,
   "id": "ed2e940b-9527-44e4-91bc-79dde8c801c9",
   "metadata": {},
   "outputs": [],
   "source": [
    "a1 = synthetic_data_gen()\n",
    "g1, g2, g3 = a1.get_graph_signals()"
   ]
  },
  {
   "cell_type": "code",
   "execution_count": 23,
   "id": "ff3576bd-1e11-4362-b183-9d4688d6f2bc",
   "metadata": {},
   "outputs": [
    {
     "data": {
      "application/vnd.jupyter.widget-view+json": {
       "model_id": "740a17ee85b04bc0a2bb977b07f12cf0",
       "version_major": 2,
       "version_minor": 0
      },
      "text/plain": [
       "  0%|          | 0/10 [00:00<?, ?it/s]"
      ]
     },
     "metadata": {},
     "output_type": "display_data"
    },
    {
     "name": "stdout",
     "output_type": "stream",
     "text": [
      "Avg F-score RBF 0.7620780102833729\n",
      "Avg Prec RBF 0.8750202592682506\n",
      "Avg Recall RBF 0.6766233766233766\n",
      "==================================================\n",
      "Avg F-score ER 0.0\n",
      "Avg Prec ER -0.5658823348297032\n",
      "Avg Recall ER 0.0\n",
      "==================================================\n",
      "Avg F-score BA 0.0\n",
      "Avg Prec BA -1.4005555555555556\n",
      "Avg Recall BA 0.0\n",
      "==================================================\n",
      "Avg MSE Rnd 19.93564250864741\n"
     ]
    }
   ],
   "source": [
    "# np.random.seed(0)\n",
    "solvers.options['show_progress'] = False\n",
    "syn = synthetic_data_gen()\n",
    "num_nodes = syn.num_vertices\n",
    "\n",
    "prec_er_list = []\n",
    "prec_ba_list = []\n",
    "prec_rnd_list = []\n",
    "\n",
    "recall_er_list = []\n",
    "recall_ba_list = []\n",
    "recall_rnd_list = []\n",
    "\n",
    "f_score_er_list = []\n",
    "f_score_ba_list = []\n",
    "f_score_rnd_list = []\n",
    "\n",
    "mse_rnd_list = []\n",
    "max_iter = 50\n",
    "iters = range(10)\n",
    "for i in tqdm(iters):\n",
    "    # np.random.seed(i)\n",
    "    graph_signals_er, graph_signals_ba, graph_signals_rand = syn.get_graph_signals()\n",
    "    L_er, Y_er = gsp.gl_sig_model(graph_signals_er, max_iter, syn.alpha_er, syn.beta_er)\n",
    "    L_ba, Y_ba = gsp.gl_sig_model(graph_signals_ba, max_iter, syn.alpha_er, syn.beta_er)\n",
    "    L_rnd, Y_rnd = gsp.gl_sig_model(graph_signals_rand, max_iter, syn.alpha_rnd, syn.beta_rnd)\n",
    "\n",
    "    L_er_gt = nx.laplacian_matrix(syn.er_graph)\n",
    "    L_ba_gt = nx.laplacian_matrix(syn.ba_graph)\n",
    "    L_rnd_gt = nx.laplacian_matrix(syn.random_graph)\n",
    "                                  \n",
    "    prec_er = L_graph_precision(L=L_er, A=-L_er_gt.todense(), thresh=syn.thr_er)\n",
    "    prec_ba = L_graph_precision(L=L_ba, A=-L_ba_gt.todense(), thresh=syn.thr_ba)\n",
    "    prec_rnd = L_graph_precision(L=L_rnd, A=utils.to_adjacency(-L_rnd_gt.todense()), thresh=syn.thr_rnd)\n",
    "\n",
    "    recall_er = L_graph_recall(L=L_er, A=-L_er_gt.todense(), thresh=syn.thr_er)\n",
    "    recall_ba = L_graph_recall(L=L_ba, A=-L_ba_gt.todense(), thresh=syn.thr_ba)\n",
    "    recall_rnd = L_graph_recall(L=L_rnd, A=utils.to_adjacency(-L_rnd_gt.todense()), thresh=syn.thr_rnd)\n",
    "    \n",
    "    mse_rnd_list.append(get_MSE(L_rnd, L_rnd_gt))\n",
    "\n",
    "    prec_er_list.append(prec_er)\n",
    "    recall_er_list.append(recall_er)\n",
    "    f_score_er_list.append(get_f_score(prec_er, recall_er))\n",
    "\n",
    "    prec_ba_list.append(prec_ba)\n",
    "    recall_ba_list.append(recall_ba)\n",
    "    f_score_ba_list.append(get_f_score(prec_ba, recall_ba))\n",
    "\n",
    "    prec_rnd_list.append(prec_rnd)\n",
    "    recall_rnd_list.append(recall_rnd)\n",
    "    f_score_rnd_list.append(get_f_score(prec_rnd, recall_rnd))\n",
    "\n",
    "print('Avg F-score RBF', np.mean(f_score_rnd_list))\n",
    "print('Avg Prec RBF', np.mean(prec_rnd_list))\n",
    "print('Avg Recall RBF', np.mean(recall_rnd_list))\n",
    "print(\"=\"*50)\n",
    "print('Avg F-score ER', np.mean(f_score_er_list))\n",
    "print('Avg Prec ER', np.mean(prec_er_list))\n",
    "print('Avg Recall ER', np.mean(recall_er_list))\n",
    "print(\"=\"*50)\n",
    "print('Avg F-score BA', np.mean(f_score_ba_list))\n",
    "print('Avg Prec BA', np.mean(prec_ba_list))\n",
    "print('Avg Recall BA', np.mean(recall_ba_list))\n",
    "print(\"=\"*50)\n",
    "print('Avg MSE Rnd', np.mean(mse_rnd_list))"
   ]
  }
 ],
 "metadata": {
  "kernelspec": {
   "display_name": "Python 3 (ipykernel)",
   "language": "python",
   "name": "python3"
  },
  "language_info": {
   "codemirror_mode": {
    "name": "ipython",
    "version": 3
   },
   "file_extension": ".py",
   "mimetype": "text/x-python",
   "name": "python",
   "nbconvert_exporter": "python",
   "pygments_lexer": "ipython3",
   "version": "3.10.14"
  }
 },
 "nbformat": 4,
 "nbformat_minor": 5
}
